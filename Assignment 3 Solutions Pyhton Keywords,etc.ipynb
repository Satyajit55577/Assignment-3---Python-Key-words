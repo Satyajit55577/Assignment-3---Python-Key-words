{
 "cells": [
  {
   "cell_type": "markdown",
   "id": "affa29bc-6448-4f52-a113-66b68f7f8726",
   "metadata": {},
   "source": [
    "Q1 Ans : \n",
    "Python Keywords are some predefined and reserved words in python that have specific meanings and purposes and they cannot be used for anything other than those purposes. These Keywords arre always available to you and you will never have to import them in your code.\n",
    "Significance of Python Keywords:\n",
    "Python Keywords play a crucial role in \n",
    "1)Defining the languages syntax\n",
    "2)Controlling the program flow\n",
    "3)Managing Data\n",
    "4)Handling Exceptions\n",
    "5)Interacting with the modules and packages, etc.\n",
    "\n",
    "Following are some examples of Python Keywords:\n",
    "1)and :\tThis is a logical operator which returns true if both the operands are true else returns false.\n",
    "2)or :\tThis is also a logical operator which returns true if anyone operand is true else returns false.\n",
    "3)if : This is used to make a conditional statement\n",
    "4)def : It helps us to define functions.\n",
    "5)import : This is used to import a module."
   ]
  },
  {
   "cell_type": "code",
   "execution_count": null,
   "id": "19aa24a6-b6d0-4638-8416-c539b5b687db",
   "metadata": {},
   "outputs": [],
   "source": []
  },
  {
   "cell_type": "markdown",
   "id": "32df8930-6172-4638-8797-b2ec3ee740ee",
   "metadata": {},
   "source": [
    "Q2 Ans:\n",
    "Rules for Naming Python Identifiers\n",
    "1)It can be a combination of A-Z, a-z, 0-9, or underscore.\n",
    "2)It should start with an alphabet character or an underscore ( _ ).\n",
    "3)It should not contain any special character other than an underscore ( _ ).\n",
    "4)It should not contain white space.\n",
    "5)It cannot be a reserved python keyword.\n",
    "6)Also its a good programming practice to give the Identifiers meaningful names to make the code more readable.\n",
    "\n",
    "Following are some examples of an valid Identifier names:\n",
    "var1 = 25\n",
    "_var1 = \"Riya\""
   ]
  },
  {
   "cell_type": "code",
   "execution_count": null,
   "id": "2df45832-90d3-4873-af55-bd1ffbf92f76",
   "metadata": {},
   "outputs": [],
   "source": []
  },
  {
   "cell_type": "markdown",
   "id": "00c4fca3-a0ef-4a34-85e1-ee62abb9629b",
   "metadata": {},
   "source": [
    "Q3 Ans:\n",
    "COMMENTS in python are the lines in the code that are ignored by the Interpreter during the execution of the program.\n",
    "USES of COMMENTS:\n",
    "1)Comments make the code more readable.\n",
    "2)They are used to explain a specific block of code\n",
    "3)They can also be used to avoid the execution of specific block of code while testing.\n",
    "\n",
    "Following are some examples of Comments:"
   ]
  },
  {
   "cell_type": "code",
   "execution_count": 1,
   "id": "4d74a2d2-1c62-4fc6-8c8a-a8a274372073",
   "metadata": {},
   "outputs": [
    {
     "name": "stdout",
     "output_type": "stream",
     "text": [
      "Jiya\n"
     ]
    }
   ],
   "source": [
    "# This is an example of an single line comment\n",
    "name = \"Jiya\"\n",
    "print(name)"
   ]
  },
  {
   "cell_type": "code",
   "execution_count": 2,
   "id": "3894b52b-564b-4444-81a0-ede56f66e5e1",
   "metadata": {},
   "outputs": [
    {
     "name": "stdout",
     "output_type": "stream",
     "text": [
      "75\n"
     ]
    }
   ],
   "source": [
    "\"\"\" This is an \n",
    "Example of an \n",
    "Multi-Line Comment\"\"\"\n",
    "x = 75\n",
    "print(x)"
   ]
  },
  {
   "cell_type": "code",
   "execution_count": null,
   "id": "005fec45-13e9-4e76-a5f4-350b7e7a74fc",
   "metadata": {},
   "outputs": [],
   "source": []
  },
  {
   "cell_type": "markdown",
   "id": "47cdfa88-580d-401a-992a-c04042229cad",
   "metadata": {},
   "source": [
    "Q4 Ans:\n",
    "1)In Python Indentation is not merely a matter of style like in the other programming language,but its a fundamental\n",
    "aspect of the pythons syntax.\n",
    "2)Unlike many programming languages that uses braces { }  to denote the code blocks, python uses Indentation to\n",
    "denote a code block.\n",
    "3)In python an consistent and proper Indentation is required for the python interpreter to understand the logical\n",
    "structure of the code.\n",
    "4)Indentation provides an improved readability,reduced errors and increased efficiency in coding.\n",
    "\n",
    "Thus from the above points we can conclude that Indentation in python is very important."
   ]
  },
  {
   "cell_type": "code",
   "execution_count": null,
   "id": "77f856a2-c279-4b37-a3a4-b62e8be7c1b9",
   "metadata": {},
   "outputs": [],
   "source": []
  },
  {
   "cell_type": "markdown",
   "id": "1893edf1-3e42-47b6-86dc-af9af6dbe4e5",
   "metadata": {},
   "source": [
    "Q5 Ans:\n",
    "Incorrect indentation can result in syntax errors and impact the logical structure of your code. \n",
    "Python relies on consistent indentation to identify code blocks, so improper indentation may lead to \n",
    "unexpected behavior or make your code difficult to understand. It’s essential to pay attention to\n",
    "indentation to ensure the proper execution of your Python programs.\n",
    "\n",
    "For Example:"
   ]
  },
  {
   "cell_type": "code",
   "execution_count": 3,
   "id": "fb120888-21e5-4202-87d6-62948a57d3d5",
   "metadata": {},
   "outputs": [
    {
     "ename": "IndentationError",
     "evalue": "expected an indented block after 'if' statement on line 1 (2693080537.py, line 2)",
     "output_type": "error",
     "traceback": [
      "\u001b[0;36m  Cell \u001b[0;32mIn[3], line 2\u001b[0;36m\u001b[0m\n\u001b[0;31m    print(\"5 is greater than 2\")\u001b[0m\n\u001b[0m    ^\u001b[0m\n\u001b[0;31mIndentationError\u001b[0m\u001b[0;31m:\u001b[0m expected an indented block after 'if' statement on line 1\n"
     ]
    }
   ],
   "source": [
    "if 5>2:\n",
    "print(\"5 is greater than 2\")"
   ]
  },
  {
   "cell_type": "code",
   "execution_count": 4,
   "id": "14376989-7d1c-450d-b416-cb97f443d706",
   "metadata": {},
   "outputs": [
    {
     "name": "stdout",
     "output_type": "stream",
     "text": [
      "5 is greater than 2\n"
     ]
    }
   ],
   "source": [
    "if 5>2:\n",
    "    print(\"5 is greater than 2\")"
   ]
  },
  {
   "cell_type": "code",
   "execution_count": null,
   "id": "af301644-be7f-408d-8659-ad07e2fa5e3c",
   "metadata": {},
   "outputs": [],
   "source": []
  },
  {
   "cell_type": "markdown",
   "id": "b3118532-e83a-4958-97de-996155321c8c",
   "metadata": {},
   "source": [
    "Q6 Ans:\n",
    "A Python statement is an instruction that the Python interpreter can execute.\n",
    "An python statement is used for creating variables,displaying values,etc.\n",
    "There are different types of statements in Python language as Assignment statements, Print statements,\n",
    "Conditional statements, Looping statements, etc.\n",
    "\n",
    "For Example:"
   ]
  },
  {
   "cell_type": "code",
   "execution_count": 5,
   "id": "133942d0-5421-42e6-b8ab-21c98df3b9f4",
   "metadata": {},
   "outputs": [
    {
     "name": "stdout",
     "output_type": "stream",
     "text": [
      "20\n"
     ]
    }
   ],
   "source": [
    "x = 20  # This is an Assignment Statement\n",
    "print(x)  # This is an Print Statement"
   ]
  },
  {
   "cell_type": "markdown",
   "id": "f12f6f9e-5bec-4a06-8c38-0a4d72f7654f",
   "metadata": {},
   "source": [
    "The combination of operands and operators in python is called an Python EXPRESSION.\n",
    "EXPRESSION in python contains variables, operands(i.e object that is operated on) and\n",
    "operators(special symbols that perform Arithmetic,Logical,... computations on the operands)\n",
    "The EXPRESSION in the python produces some value or result after being interpreted by the Python Interpreter.\n",
    "\n",
    "For Example:"
   ]
  },
  {
   "cell_type": "code",
   "execution_count": 10,
   "id": "34f33f99-7ff4-4622-b3da-30233d941d19",
   "metadata": {},
   "outputs": [
    {
     "data": {
      "text/plain": [
       "12"
      ]
     },
     "execution_count": 10,
     "metadata": {},
     "output_type": "execute_result"
    }
   ],
   "source": [
    "a = 5\n",
    "b = 7\n",
    "a + b # This is an Arithmetic Expression"
   ]
  },
  {
   "cell_type": "code",
   "execution_count": 11,
   "id": "fc0587bf-e92b-495e-97bd-093ba00b2940",
   "metadata": {},
   "outputs": [
    {
     "data": {
      "text/plain": [
       "True"
      ]
     },
     "execution_count": 11,
     "metadata": {},
     "output_type": "execute_result"
    }
   ],
   "source": [
    "a = 5\n",
    "b = 7\n",
    "a>0 and b>0 # This is a logical Expression"
   ]
  },
  {
   "cell_type": "code",
   "execution_count": null,
   "id": "bdbfd3be-1fed-4a92-8de0-a852bc4103cb",
   "metadata": {},
   "outputs": [],
   "source": []
  }
 ],
 "metadata": {
  "kernelspec": {
   "display_name": "Python 3 (ipykernel)",
   "language": "python",
   "name": "python3"
  },
  "language_info": {
   "codemirror_mode": {
    "name": "ipython",
    "version": 3
   },
   "file_extension": ".py",
   "mimetype": "text/x-python",
   "name": "python",
   "nbconvert_exporter": "python",
   "pygments_lexer": "ipython3",
   "version": "3.10.8"
  }
 },
 "nbformat": 4,
 "nbformat_minor": 5
}
